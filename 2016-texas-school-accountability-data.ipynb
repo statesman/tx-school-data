{
 "cells": [
  {
   "cell_type": "markdown",
   "metadata": {
    "collapsed": true
   },
   "source": [
    "# Texas school accountability data\n",
    "This notebook has the scripts needed to cut, filter and analyze school accountability data from the Texas Education Association."
   ]
  },
  {
   "cell_type": "markdown",
   "metadata": {},
   "source": [
    "### Download the data\n",
    "Accountability data for 2013-2016 are in the `data` folder inside this repo, but here's how you'd get campus-level summary data files if they weren't there already. I'll use the 2015 data file as an example.\n",
    "\n",
    "First, go to the [accountability data portal](https://rptsvr1.tea.texas.gov/perfreport/account/2015/) and click the \"Download data\" link on the left rail.\n",
    "\n",
    "<img src=\"img/1-portal-page.gif\" style=\"border: 1px solid #ccc; margin: 20px auto 40px auto;\" />\n",
    "\n",
    "On the resulting page, click the \"Campus-level Data\" radio button, then scroll down and click \"Continue.\"\n",
    "\n",
    "<img src=\"img/2-data-page.gif\" style=\"border: 1px solid #ccc; margin: 20px auto 40px auto;\" />\n",
    "\n",
    "Finally, on the data download page, select \"Tab delimited\" from the select menu. Click the \"Select all\" button. Then click the \"Download\" button.\n",
    "\n",
    "<img src=\"img/3-download-page.gif\" style=\"border: 1px solid #ccc; margin: 20px auto 40px auto;\" />\n",
    "\n",
    "I renamed this file `2015-tx-school-acc-data.dat` and dropped it in the `data` folder, then repeated the process for the other years.\n",
    "\n",
    "Also, I snagged the file layouts ([e.g.](https://rptsvr1.tea.texas.gov/perfreport/account/2015/download/camprate.html)) and saved them as .tsv files in the `/data` directory, though in practice they didn't always match the actual data. I used them as a rough guide and consulted a sample of published summary reports [like this one](https://rptsvr1.tea.texas.gov/perfreport/account/2013/static/summary/campus/c227901170.pdf) to check expected values against the actual data.\n",
    "\n",
    "Also also, I grabbed a .csv file with [spatial data of every school in Texas](http://schoolsdata.tea-texas.opendata.arcgis.com/datasets/059432fd0dcb4a208974c235e837c94f_0) and saved it as `school_locations.csv`. (TODO: grab the [districts shapefile](http://schoolsdata.tea-texas.opendata.arcgis.com/datasets/e115fed14c0f4ca5b942dc3323626b1c_0), too.)"
   ]
  },
  {
   "cell_type": "markdown",
   "metadata": {
    "collapsed": true
   },
   "source": [
    "### Cut and stack\n",
    "Using `awk`, I cut out the columns I needed from each file and appended them to `data/stacked-file.csv`. (The file layouts are slightly different each year, and also remember how the column layouts provided by the state aren't always correct.) Then I joined a few columns of location data."
   ]
  },
  {
   "cell_type": "code",
   "execution_count": 1,
   "metadata": {
    "collapsed": false
   },
   "outputs": [
    {
     "name": "stdout",
     "output_type": "stream",
     "text": [
      "No errors.\n"
     ]
    }
   ],
   "source": [
    "%%bash\n",
    "# truncate (or create) file\n",
    ":> data/stacked_data.csv\n",
    "\n",
    "# write headers\n",
    "echo \"campus_id,campus_name,campus_population,campus_pct_disadvantaged,campus_pct_english_language_learners,district_name,index1_target_score,index1_score,index2_target_score,index2_score,index3_target_score,index3_score,index4_target_score,index4_score,distinction_reading,distinction_math,distinction_student_progress,distinction_science,distinction_social_studies,distinction_close_performance_gap,distinction_postsecondary_readiness,jjaep,daep,year,overall_rating,updated_rating\" >> data/stacked_data.csv\n",
    "\n",
    "# 2013 data\n",
    "awk -F '\\t' '{OFS=\",\"; if (NR!=1) {print $1,$6,$44,$46,$48,$51,$20,$19,$25,$24,$30,$29,$35,$34,$5,$3,$4,\".\",\".\",\".\",\".\",$12,$11,\"2013\",$49,$50;}}' data/2013-tx-school-acc-data.dat >> data/stacked_data.csv\n",
    "\n",
    "# 2014 data\n",
    "awk -F '\\t' '{OFS=\",\"; if (NR!=1) {print $1,$9,$49,$51,$53,$56,$23,$22,$28,$27,$33,$32,$39,$37,$6,$3,$5,$7,$8,$2,$4,$15,$13,\"2014\",$54,$55;}}' data/2014-tx-school-acc-data.dat >> data/stacked_data.csv\n",
    "\n",
    "# 2015 data\n",
    "awk -F '\\t' '{OFS=\",\"; if (NR!=1) {print $1,$9,$49,$51,$53,$56,$23,$22,$28,$27,$33,$32,$38,$37,$6,$3,$5,$7,$8,$2,$4,$15,$13,\"2015\",$54,$55;}}' data/2015-tx-school-acc-data.dat >> data/stacked_data.csv\n",
    "\n",
    "# join to location data and sort by campus ID\n",
    "csvcut -c 9,7,2,1,15 data/school_locations.csv | csvjoin -c \"campus_id,CAMPUS\" data/stacked_data.csv - > data/stacked_data_with_coordinates.csv\n",
    "\n",
    "# check for ish\n",
    "csvclean -n data/stacked_data_with_coordinates.csv"
   ]
  },
  {
   "cell_type": "code",
   "execution_count": null,
   "metadata": {
    "collapsed": true
   },
   "outputs": [],
   "source": []
  },
  {
   "cell_type": "code",
   "execution_count": null,
   "metadata": {
    "collapsed": true
   },
   "outputs": [],
   "source": [
    "\"\"\"\n",
    "Here is a Python dict with a 1-indexed column layout for each year of data, for whoever deals\n",
    "with this next year.\n",
    "\"\"\"\n",
    "\n",
    "\n"
   ]
  },
  {
   "cell_type": "markdown",
   "metadata": {},
   "source": [
    "### Group data by campus\n",
    "Hey, I've got some Python analysis to do. Should I use `numpy`? `pandas`?\n",
    "\n",
    "<img src=\"img/achewood.png\" />\n",
    "\n",
    "Ha ha OK guys, settle down, I'll use `Agate`. First up, I need to create a table and group by the campus ID."
   ]
  },
  {
   "cell_type": "code",
   "execution_count": null,
   "metadata": {
    "collapsed": true
   },
   "outputs": [],
   "source": [
    "import agate\n",
    "\n",
    "school_ratings = agate.Table.from_csv('data/stacked_data_with_coordinates.csv')"
   ]
  },
  {
   "cell_type": "markdown",
   "metadata": {},
   "source": [
    "### Process the data\n",
    "* Run the campus names through a couple of text transforms to standardize names.\n",
    "* Convert 0/1, Y/N variables into booleans.\n",
    "* Convert \".\" and \" \" values (the state's flags for n/a) into None"
   ]
  },
  {
   "cell_type": "code",
   "execution_count": null,
   "metadata": {
    "collapsed": true
   },
   "outputs": [],
   "source": [
    "import re\n",
    "\n",
    "TEXT_TRANSFORMS = (\n",
    "    (r\"H S$\", \"High School\"),\n",
    "    (r\"MIDDLE$\", \"Middle School\"),\n",
    "    (r\"JR H S$\", \"Junior High School\"),\n",
    "    (r\"INT$\", \"Intermediate\"),\n",
    "    (r\"EL$\", \"Elementary\"),\n",
    ")\n",
    "\n",
    "# [re.sub(*item, el, flags=re.IGNORECASE) for item in TEXT_TRANSFORMS]\n"
   ]
  },
  {
   "cell_type": "markdown",
   "metadata": {},
   "source": [
    "### Chop out local school data"
   ]
  },
  {
   "cell_type": "code",
   "execution_count": null,
   "metadata": {
    "collapsed": true
   },
   "outputs": [],
   "source": [
    "local_districts = [\"Austin\", \"Round Rock\", \"Leander\", \"Pflugerville\", \"Hays\", \"Del Valle\", \"Georgetown\", \"Bastrop\", \"Manor\", \"Lake Travis\", \"Eanes\", \"San Marcos\", \"Hutto\", \"Dripping Springs\"]"
   ]
  }
 ],
 "metadata": {
  "kernelspec": {
   "display_name": "Python 3",
   "language": "python",
   "name": "python3"
  },
  "language_info": {
   "codemirror_mode": {
    "name": "ipython",
    "version": 3
   },
   "file_extension": ".py",
   "mimetype": "text/x-python",
   "name": "python",
   "nbconvert_exporter": "python",
   "pygments_lexer": "ipython3",
   "version": "3.5.1"
  }
 },
 "nbformat": 4,
 "nbformat_minor": 1
}
