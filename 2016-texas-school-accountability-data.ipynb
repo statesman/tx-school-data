{
 "cells": [
  {
   "cell_type": "markdown",
   "metadata": {
    "collapsed": true
   },
   "source": [
    "# Texas school accountability data 2016\n",
    "This notebook has the scripts needed to cut, filter and analyze 2016 school accountability data from the Texas Education Association."
   ]
  },
  {
   "cell_type": "markdown",
   "metadata": {},
   "source": [
    "## Download the data\n",
    "The 2016 data is already in the `data` folder inside this repo, but here's how you'd get it.\n",
    "\n",
    "First, go to the [accountability data portal](https://rptsvr1.tea.texas.gov/perfreport/account/2015/) and click the \"Download data\" link on the left rail.\n",
    "\n",
    "<img src=\"screenshots/1-portal-page.gif\" style=\"border: 1px solid #ccc; margin: 20px auto 40px auto;\" />\n",
    "\n",
    "On the resulting page, click the \"Campus-level Data\" radio button, then scroll down and click \"Continue.\"\n",
    "\n",
    "<img src=\"screenshots/2-data-page.gif\" style=\"border: 1px solid #ccc; margin: 20px auto 40px auto;\" />\n",
    "\n",
    "Finally, on the data download page, select \"Tab delimited\" from the select menu. Click the \"Select all\" button. Then click the \"Download\" button.\n",
    "\n",
    "<img src=\"screenshots/3-download-page.gif\" style=\"border: 1px solid #ccc; margin: 20px auto 40px auto;\" />\n",
    "\n",
    "I renamed the data file `2016-tx-school-acc-data.dat` and dropped it in the `data` folder."
   ]
  },
  {
   "cell_type": "code",
   "execution_count": null,
   "metadata": {
    "collapsed": true
   },
   "outputs": [],
   "source": []
  }
 ],
 "metadata": {
  "kernelspec": {
   "display_name": "Python 3",
   "language": "python",
   "name": "python3"
  },
  "language_info": {
   "codemirror_mode": {
    "name": "ipython",
    "version": 3
   },
   "file_extension": ".py",
   "mimetype": "text/x-python",
   "name": "python",
   "nbconvert_exporter": "python",
   "pygments_lexer": "ipython3",
   "version": "3.5.1"
  }
 },
 "nbformat": 4,
 "nbformat_minor": 1
}
